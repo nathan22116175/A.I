{
  "nbformat": 4,
  "nbformat_minor": 0,
  "metadata": {
    "colab": {
      "provenance": []
    },
    "kernelspec": {
      "name": "python3",
      "display_name": "Python 3"
    },
    "language_info": {
      "name": "python"
    }
  },
  "cells": [
    {
      "cell_type": "code",
      "execution_count": 1,
      "metadata": {
        "id": "B7gl_2uCaBlM"
      },
      "outputs": [],
      "source": [
        "class TreeBinary :\n",
        "    def __init__(self, data) :\n",
        "      self.data = data\n",
        "      self.left = None\n",
        "      self.right = None\n",
        "\n",
        "\n",
        "# create a binary Tree\n",
        "root = TreeBinary(1)\n",
        "root.left = TreeBinary(2)\n",
        "root.right = TreeBinary(3)\n",
        "root.left.left = TreeBinary(4)\n",
        "root.left.right = TreeBinary(5)\n",
        "root.right.left = TreeBinary(6)\n",
        "root.right.right = TreeBinary(7)"
      ]
    },
    {
      "cell_type": "code",
      "source": [
        "#DFS ALGORITHM\n",
        "def printDFS(root) :\n",
        "  if root is None :\n",
        "    return\n",
        "  stack = [root]\n",
        "  while stack :\n",
        "    node = stack.pop()\n",
        "    print(node.data, end = \" \")\n",
        "    if node.right :\n",
        "      stack.append(node.right)\n",
        "    if node.left :\n",
        "      stack.append(node.left)\n",
        "\n",
        "printDFS(root)"
      ],
      "metadata": {
        "colab": {
          "base_uri": "https://localhost:8080/"
        },
        "id": "dMPuSKW5eLA0",
        "outputId": "7aa29adf-170e-4053-90c7-65d0b6af2d11"
      },
      "execution_count": 3,
      "outputs": [
        {
          "output_type": "stream",
          "name": "stdout",
          "text": [
            "1 2 4 5 3 6 7 "
          ]
        }
      ]
    },
    {
      "cell_type": "code",
      "source": [
        "def iterative(root) :\n",
        "  if root is None :\n",
        "    return\n",
        "\n",
        "  print(root.data, end = \" \")\n",
        "  iterative(root.left)\n",
        "  iterative(root.right)\n",
        "\n",
        "iterative(root)"
      ],
      "metadata": {
        "colab": {
          "base_uri": "https://localhost:8080/"
        },
        "id": "n-1ZDIOCecU_",
        "outputId": "b92b5f19-6e3f-4e67-dccd-c88aa9cd8121"
      },
      "execution_count": 5,
      "outputs": [
        {
          "output_type": "stream",
          "name": "stdout",
          "text": [
            "1 2 4 5 3 6 7 "
          ]
        }
      ]
    },
    {
      "cell_type": "code",
      "source": [
        "#BFS ALGORITHM\n",
        "def printQueue(root) :\n",
        "  if root is None :\n",
        "    return\n",
        "  queue = []\n",
        "  queue = [root]\n",
        "  while(len(queue) > 0) :\n",
        "    print(queue[0].data, end = \" \")\n",
        "    node = queue.pop(0)\n",
        "\n",
        "    if node.left :\n",
        "      queue.append(node.left)\n",
        "    if node.right :\n",
        "      queue.append(node.right)\n",
        "\n",
        "printQueue(root)"
      ],
      "metadata": {
        "colab": {
          "base_uri": "https://localhost:8080/"
        },
        "id": "ShTGA-eGicuN",
        "outputId": "d250eef8-9c8f-4b76-ec2f-d4c4acdadaa5"
      },
      "execution_count": 6,
      "outputs": [
        {
          "output_type": "stream",
          "name": "stdout",
          "text": [
            "1 2 3 4 5 6 7 "
          ]
        }
      ]
    },
    {
      "cell_type": "code",
      "source": [
        "# A - START ALGORITHM\n",
        "\n",
        "import heapq\n",
        "\n",
        "def heuristic(node, goal):\n",
        "    \"\"\"Calculate Manhattan distance as the heuristic.\"\"\"\n",
        "    return abs(node[0] - goal[0]) + abs(node[1] - goal[1])\n",
        "\n",
        "def a_star(grid, start, goal):\n",
        "    \"\"\"Perform A* algorithm on a 2D grid.\"\"\"\n",
        "    rows, cols = len(grid), len(grid[0])\n",
        "\n",
        "    # Directions for movement (up, down, left, right)\n",
        "    directions = [(0, 1), (1, 0), (0, -1), (-1, 0)]\n",
        "\n",
        "    # Priority queue for open list\n",
        "    open_list = []\n",
        "    heapq.heappush(open_list, (0, start))\n",
        "\n",
        "    # Track costs and parents\n",
        "    g_cost = {start: 0}\n",
        "    f_cost = {start: heuristic(start, goal)}\n",
        "    parent = {start: None}\n",
        "\n",
        "    while open_list:\n",
        "        # Get node with the lowest f_cost\n",
        "        current_f, current = heapq.heappop(open_list)\n",
        "\n",
        "        # If goal is reached, reconstruct path\n",
        "        if current == goal:\n",
        "            path = []\n",
        "            while current:\n",
        "                path.append(current)\n",
        "                current = parent[current]\n",
        "            return path[::-1]  # Return reversed path\n",
        "\n",
        "        for direction in directions:\n",
        "            neighbor = (current[0] + direction[0], current[1] + direction[1])\n",
        "\n",
        "            # Check if neighbor is within bounds and not an obstacle\n",
        "            if 0 <= neighbor[0] < rows and 0 <= neighbor[1] < cols and grid[neighbor[0]][neighbor[1]] != 'X':\n",
        "                tentative_g_cost = g_cost[current] + 1\n",
        "\n",
        "                # If this path to neighbor is better or neighbor is not visited\n",
        "                if neighbor not in g_cost or tentative_g_cost < g_cost[neighbor]:\n",
        "                    g_cost[neighbor] = tentative_g_cost\n",
        "                    f_cost[neighbor] = tentative_g_cost + heuristic(neighbor, goal)\n",
        "                    parent[neighbor] = current\n",
        "\n",
        "                    # Add neighbor to the open list\n",
        "                    heapq.heappush(open_list, (f_cost[neighbor], neighbor))\n",
        "\n",
        "    return None  # No path found\n",
        "\n",
        "# Example grid\n",
        "grid = [\n",
        "    ['S', '.', '.', 'X', '.'],\n",
        "    ['.', 'X', '.', 'X', '.'],\n",
        "    ['.', '.', '.', '.', '.'],\n",
        "    ['X', 'X', '.', 'X', 'T'],\n",
        "    ['.', '.', '.', '.', '.']\n",
        "]\n",
        "\n",
        "# Convert grid to start and goal coordinates\n",
        "start = (0, 0)\n",
        "goal = (3, 4)\n",
        "\n",
        "# Replace 'S' and 'T' with '.' for processing\n",
        "grid[start[0]][start[1]] = '.'\n",
        "grid[goal[0]][goal[1]] = '.'\n",
        "\n",
        "# Run A* algorithm\n",
        "path = a_star(grid, start, goal)\n",
        "\n",
        "# Print results\n",
        "if path:\n",
        "    print(\"Path found:\")\n",
        "    for step in path:\n",
        "        print(step)\n",
        "else:\n",
        "    print(\"No path found.\")\n"
      ],
      "metadata": {
        "colab": {
          "base_uri": "https://localhost:8080/"
        },
        "id": "VSIJUtfBsf3U",
        "outputId": "642bcff0-b4cf-4723-a23d-1d4cb9fedad1"
      },
      "execution_count": 7,
      "outputs": [
        {
          "output_type": "stream",
          "name": "stdout",
          "text": [
            "Path found:\n",
            "(0, 0)\n",
            "(0, 1)\n",
            "(0, 2)\n",
            "(1, 2)\n",
            "(2, 2)\n",
            "(2, 3)\n",
            "(2, 4)\n",
            "(3, 4)\n"
          ]
        }
      ]
    },
    {
      "cell_type": "code",
      "source": [],
      "metadata": {
        "id": "rL8fW-l9spZh"
      },
      "execution_count": null,
      "outputs": []
    }
  ]
}