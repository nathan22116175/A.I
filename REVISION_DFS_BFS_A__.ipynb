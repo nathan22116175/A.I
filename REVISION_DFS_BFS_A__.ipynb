{
  "nbformat": 4,
  "nbformat_minor": 0,
  "metadata": {
    "colab": {
      "provenance": []
    },
    "kernelspec": {
      "name": "python3",
      "display_name": "Python 3"
    },
    "language_info": {
      "name": "python"
    }
  },
  "cells": [
    {
      "cell_type": "code",
      "execution_count": null,
      "metadata": {
        "id": "Fj_bP2deWogh"
      },
      "outputs": [],
      "source": [
        "#BFS EXERCISE 1 :\n",
        "\n",
        "class TreeNode :\n",
        "  def __init__(self, data) :\n",
        "    self.data = data\n",
        "    self.children = []\n",
        "\n",
        "root = TreeNode(1)\n",
        "root.children = [TreeNode(2), TreeNode(3), TreeNode(4)]\n",
        "root.children[1].children = [TreeNode(5), TreeNode(6)]\n",
        "root.children[2].children = [TreeNode(7)]\n",
        "root.children[1].children[0].children = [TreeNode(8), TreeNode(9)]"
      ]
    },
    {
      "cell_type": "code",
      "source": [
        "from collections import deque\n",
        "\n",
        "def BFS_Algorithm(root) :\n",
        "  if root is None :\n",
        "    return\n",
        "\n",
        "  queue = deque([root]) #here we are creating and initializing a queue\n",
        "  visited = []\n",
        "\n",
        "  while queue :\n",
        "    current = queue.popleft()\n",
        "    visited.append(current.data)\n",
        "\n",
        "    for child in current.children :\n",
        "      queue.append(child)\n",
        "\n",
        "  return visited\n",
        "\n",
        "\n",
        "bfs_result = BFS_Algorithm(root)\n",
        "print(\"BFS Traversal Sequence:\", bfs_result)"
      ],
      "metadata": {
        "colab": {
          "base_uri": "https://localhost:8080/"
        },
        "id": "SVqe0iuAi8kz",
        "outputId": "f88b38ff-2709-4671-8e27-9f558367a29f"
      },
      "execution_count": null,
      "outputs": [
        {
          "output_type": "stream",
          "name": "stdout",
          "text": [
            "BFS Traversal Sequence: [1, 2, 3, 4, 5, 6, 7, 8, 9]\n"
          ]
        }
      ]
    },
    {
      "cell_type": "code",
      "source": [
        "#BFS EXERCISE 2 :\n",
        "\n",
        "class TreeBinary :\n",
        "    def __init__(self, data) :\n",
        "      self.data = data\n",
        "      self.left = None\n",
        "      self.right = None\n",
        "\n",
        "\n",
        "# create a binary Tree\n",
        "root = TreeBinary(1)\n",
        "root.left = TreeBinary(2)\n",
        "root.right = TreeBinary(3)\n",
        "root.left.left = TreeBinary(4)\n",
        "root.left.right = TreeBinary(5)\n",
        "root.right.left = TreeBinary(6)\n",
        "root.right.right = TreeBinary(7)"
      ],
      "metadata": {
        "id": "PQCqyk-ipgwd"
      },
      "execution_count": null,
      "outputs": []
    },
    {
      "cell_type": "code",
      "source": [
        "from collections import deque\n",
        "\n",
        "def bfs(root) :\n",
        "  if root is None :\n",
        "    return\n",
        "\n",
        "  queue = deque([root]) #here we are creating and initializing a queue\n",
        "  visited = []\n",
        "\n",
        "  while queue :\n",
        "    node = queue.popleft()\n",
        "    visited.append(node.data)\n",
        "\n",
        "    if node.left :\n",
        "      queue.append(node.left)\n",
        "    if node.right :\n",
        "      queue.append(node.right)\n",
        "\n",
        "  return visited\n",
        "\n",
        "\n",
        "bfs_result = bfs(root)\n",
        "print(\"BFS Traversal Sequence:\", bfs_result)"
      ],
      "metadata": {
        "colab": {
          "base_uri": "https://localhost:8080/"
        },
        "id": "chmcIYIQuHi5",
        "outputId": "2c940b08-bfe1-4fec-b352-9ba79f3ad5e0"
      },
      "execution_count": null,
      "outputs": [
        {
          "output_type": "stream",
          "name": "stdout",
          "text": [
            "BFS Traversal Sequence: [1, 2, 3, 4, 5, 6, 7]\n"
          ]
        }
      ]
    },
    {
      "cell_type": "markdown",
      "source": [
        "BFS EXERCICES"
      ],
      "metadata": {
        "id": "vpuuljHSxqP3"
      }
    },
    {
      "cell_type": "code",
      "source": [
        "#DFS Algorithm Exercices 1\n",
        "\n",
        "def dfs_stack_binary_tree(root):\n",
        "    if root is None:  # Handle the edge case of an empty tree\n",
        "        return []\n",
        "\n",
        "    stack = [root]  # Initialize the stack with the root node\n",
        "    traversal = []  # To store the result of DFS\n",
        "\n",
        "    while stack:\n",
        "        node = stack.pop()  # Pop the top node from the stack\n",
        "        traversal.append(node.data)  # Add the current node's data to traversal\n",
        "\n",
        "        # Push the right child first, then the left child (to process left first)\n",
        "        if node.right:\n",
        "            stack.append(node.right)\n",
        "        if node.left:\n",
        "            stack.append(node.left)\n",
        "\n",
        "    return traversal\n",
        "\n",
        "# Create the binary tree\n",
        "class TreeBinary:\n",
        "    def __init__(self, data):\n",
        "        self.data = data\n",
        "        self.left = None\n",
        "        self.right = None\n",
        "\n",
        "# Define your binary tree\n",
        "root = TreeBinary(1)\n",
        "root.left = TreeBinary(2)\n",
        "root.right = TreeBinary(3)\n",
        "root.left.left = TreeBinary(4)\n",
        "root.left.right = TreeBinary(5)\n",
        "root.right.left = TreeBinary(6)\n",
        "root.right.right = TreeBinary(7)\n",
        "\n",
        "# Perform DFS using stack\n",
        "result = dfs_stack_binary_tree(root)\n",
        "print(\"DFS Traversal:\", result)\n"
      ],
      "metadata": {
        "colab": {
          "base_uri": "https://localhost:8080/"
        },
        "id": "kmh8aJ6iuWLP",
        "outputId": "87e66376-8e38-4caa-8cbd-29f010555ed9"
      },
      "execution_count": null,
      "outputs": [
        {
          "output_type": "stream",
          "name": "stdout",
          "text": [
            "DFS Traversal: [1, 2, 4, 5, 3, 6, 7]\n"
          ]
        }
      ]
    },
    {
      "cell_type": "code",
      "source": [
        "#DFS Algorithm Exercices 2\n",
        "\n",
        "class TreeNode:\n",
        "    def __init__(self, data):\n",
        "        self.data = data\n",
        "        self.children = []\n",
        "\n",
        "def dfs_stack_non_binary_tree(root):\n",
        "    if root is None:  # Handle the edge case of an empty tree\n",
        "        return []\n",
        "\n",
        "    stack = [root]  # Initialize the stack with the root node\n",
        "    traversal = []  # To store the result of DFS\n",
        "\n",
        "    while stack:\n",
        "        node = stack.pop()  # Pop the top node from the stack\n",
        "        traversal.append(node.data)  # Add the current node's data to traversal\n",
        "\n",
        "        # Push children in reverse order to process left-to-right\n",
        "        for child in reversed(node.children):\n",
        "            stack.append(child)\n",
        "\n",
        "    return traversal\n",
        "\n",
        "\n",
        "# Define your non-binary tree\n",
        "root = TreeNode(1)\n",
        "root.children = [TreeNode(2), TreeNode(3), TreeNode(4)]\n",
        "root.children[1].children = [TreeNode(5), TreeNode(6)]\n",
        "root.children[2].children = [TreeNode(7)]\n",
        "root.children[1].children[0].children = [TreeNode(8), TreeNode(9)]\n",
        "\n",
        "# Perform DFS using stack\n",
        "result = dfs_stack_non_binary_tree(root)\n",
        "print(\"DFS Traversal (Non-Binary Tree):\", result)\n"
      ],
      "metadata": {
        "colab": {
          "base_uri": "https://localhost:8080/"
        },
        "id": "TQWURNWvyjFO",
        "outputId": "6001eb55-fc79-43f4-fe5d-db5a2ff581bd"
      },
      "execution_count": null,
      "outputs": [
        {
          "output_type": "stream",
          "name": "stdout",
          "text": [
            "DFS Traversal (Non-Binary Tree): [1, 2, 3, 5, 8, 9, 6, 4, 7]\n"
          ]
        }
      ]
    },
    {
      "cell_type": "markdown",
      "source": [
        "Exercises: DFS and BFS : Search from left-to-right. Initial state is ‘g’ and goal state is ‘d’"
      ],
      "metadata": {
        "id": "MPBLG3Be36rb"
      }
    },
    {
      "cell_type": "code",
      "source": [
        "from collections import deque\n",
        "\n",
        "def bfs(graph, start, goal):\n",
        "    visited = set()\n",
        "    queue = deque([start])\n",
        "    traversal = []\n",
        "\n",
        "    while queue:\n",
        "        node = queue.popleft()\n",
        "        if node not in visited:\n",
        "            visited.add(node)\n",
        "            traversal.append(node)\n",
        "            if node == goal:\n",
        "                break\n",
        "            queue.extend(graph[node])  # Add neighbors to the queue\n",
        "\n",
        "    return traversal\n"
      ],
      "metadata": {
        "id": "OEd9rQ-p2wvG"
      },
      "execution_count": null,
      "outputs": []
    },
    {
      "cell_type": "code",
      "source": [
        "def dfs(graph, start, goal):\n",
        "    visited = set()\n",
        "    stack = [start]\n",
        "    traversal = []\n",
        "\n",
        "    while stack:\n",
        "        node = stack.pop()\n",
        "        if node not in visited:\n",
        "            visited.add(node)\n",
        "            traversal.append(node)\n",
        "            if node == goal:\n",
        "                break\n",
        "            stack.extend(reversed(graph[node]))  # Add neighbors in reverse order\n",
        "\n",
        "    return traversal\n"
      ],
      "metadata": {
        "id": "chWdMM2b2xRY"
      },
      "execution_count": null,
      "outputs": []
    },
    {
      "cell_type": "code",
      "source": [
        "graph = {\n",
        "    'a': ['b', 'e'],\n",
        "    'b': ['a', 'c', 'j'],\n",
        "    'c': ['b', 'd', 'k'],\n",
        "    'd': ['c', 'h'],\n",
        "    'e': ['a', 'i', 'm'],\n",
        "    'h': ['d', 'l', 'g'],  # 'h' connects to 'g'\n",
        "    'i': ['e', 'j'],\n",
        "    'j': ['b', 'i', 'k'],\n",
        "    'k': ['c', 'j', 'p', 'g'],  # 'k' connects to 'g'\n",
        "    'l': ['h'],\n",
        "    'm': ['e'],\n",
        "    'p': ['k'],\n",
        "    'g': ['h', 'k']  # Add 'g' with its neighbors\n",
        "}"
      ],
      "metadata": {
        "id": "z6wlTu8y26es"
      },
      "execution_count": null,
      "outputs": []
    },
    {
      "cell_type": "code",
      "source": [
        "bfs_traversal = bfs(graph, 'g', 'd')\n",
        "dfs_traversal = dfs(graph, 'g', 'd')\n",
        "\n",
        "print(\"BFS Traversal:\", bfs_traversal)\n",
        "print(\"DFS Traversal:\", dfs_traversal)\n"
      ],
      "metadata": {
        "colab": {
          "base_uri": "https://localhost:8080/"
        },
        "id": "chzdROUH29cD",
        "outputId": "d401d63b-99e5-40f9-91f4-5bb4e74084d8"
      },
      "execution_count": null,
      "outputs": [
        {
          "output_type": "stream",
          "name": "stdout",
          "text": [
            "BFS Traversal: ['g', 'h', 'k', 'd']\n",
            "DFS Traversal: ['g', 'h', 'd']\n"
          ]
        }
      ]
    },
    {
      "cell_type": "markdown",
      "source": [
        "A start Algorithm"
      ],
      "metadata": {
        "id": "SnRsjo5f_YbL"
      }
    },
    {
      "cell_type": "code",
      "source": [
        "import heapq\n",
        "\n",
        "# Define the grid\n",
        "grid = [\n",
        "    [0, 0, 1, 0],\n",
        "    [0, 0, 1, 0],\n",
        "    [0, 0, 0, 0],\n",
        "    [1, 1, 0, 0]\n",
        "]\n",
        "\n",
        "# Directions (up, down, left, right)\n",
        "directions = [(-1, 0), (1, 0), (0, -1), (0, 1)]\n",
        "\n",
        "# Manhattan Distance Heuristic Function (calculate the estimate code to travel btw these point )\n",
        "def manhattan_distance(start, goal):\n",
        "    return abs(start[0] - goal[0]) + abs(start[1] - goal[1])\n",
        "\n",
        "# A* Algorithm Implementation\n",
        "def a_star(start, goal):\n",
        "    open_list = []\n",
        "    closed_list = set()\n",
        "\n",
        "    # Add the start node with f = g + h to the open_list (h : estimate cost to reach the goal)\n",
        "    heapq.heappush(open_list, (0 + manhattan_distance(start, goal), 0, start))\n",
        "\n",
        "    # Store parent for path reconstruction\n",
        "    came_from = {}\n",
        "\n",
        "    while open_list:\n",
        "        _, g, current = heapq.heappop(open_list)\n",
        "\n",
        "        # If the goal is reached, reconstruct the path\n",
        "        if current == goal:\n",
        "            path = []\n",
        "            while current in came_from:\n",
        "                path.append(current)\n",
        "                current = came_from[current]\n",
        "            path.append(start)\n",
        "            path.reverse()\n",
        "            return path\n",
        "\n",
        "        closed_list.add(current)\n",
        "\n",
        "        # Explore neighbors\n",
        "        for dx, dy in directions:\n",
        "            neighbor = (current[0] + dx, current[1] + dy)\n",
        "            if 0 <= neighbor[0] < len(grid) and 0 <= neighbor[1] < len(grid[0]) and grid[neighbor[0]][neighbor[1]] == 0:\n",
        "                if neighbor not in closed_list:\n",
        "                    g_cost = g + 1\n",
        "                    f_cost = g_cost + manhattan_distance(neighbor, goal)\n",
        "                    heapq.heappush(open_list, (f_cost, g_cost, neighbor))\n",
        "                    came_from[neighbor] = current\n",
        "\n",
        "    return None  # Return None if no path is found\n",
        "\n",
        "# Example usage\n",
        "start = (0, 0)\n",
        "goal = (3, 3)\n",
        "path = a_star(start, goal)\n",
        "print(\"Path:\", path)\n"
      ],
      "metadata": {
        "colab": {
          "base_uri": "https://localhost:8080/"
        },
        "id": "AajrHWDd_beo",
        "outputId": "de6d038b-8b6b-4c85-af97-72df93434da0"
      },
      "execution_count": null,
      "outputs": [
        {
          "output_type": "stream",
          "name": "stdout",
          "text": [
            "Path: [(0, 0), (1, 0), (2, 0), (2, 1), (2, 2), (3, 2), (3, 3)]\n"
          ]
        }
      ]
    },
    {
      "cell_type": "code",
      "source": [],
      "metadata": {
        "id": "8TzzaUyLDcv5"
      },
      "execution_count": null,
      "outputs": []
    },
    {
      "cell_type": "code",
      "source": [
        "# Manual Scaling (Standardization)\n",
        "\n",
        "import numpy as np\n",
        "\n",
        "# Sample data (features in columns, samples in rows)\n",
        "data = np.array([[1, 2, 3],\n",
        "                 [4, 5, 6],\n",
        "                 [7, 8, 9]])\n",
        "\n",
        "# Manual scaling function\n",
        "def standardize(data):\n",
        "    # Calculate mean and standard deviation for each feature (column)\n",
        "    means = np.mean(data, axis=0)\n",
        "    stds = np.std(data, axis=0)\n",
        "\n",
        "    # Scale the data\n",
        "    standardized_data = (data - means) / stds\n",
        "    return standardized_data\n",
        "\n",
        "# Applying standardization\n",
        "scaled_data = standardize(data)\n",
        "\n",
        "print(\"Standardized Data:\\n\", scaled_data)\n"
      ],
      "metadata": {
        "colab": {
          "base_uri": "https://localhost:8080/"
        },
        "id": "HPF6CekmgrE2",
        "outputId": "5c2a2b17-dea3-42c2-9773-3418b80c3835"
      },
      "execution_count": 1,
      "outputs": [
        {
          "output_type": "stream",
          "name": "stdout",
          "text": [
            "Standardized Data:\n",
            " [[-1.22474487 -1.22474487 -1.22474487]\n",
            " [ 0.          0.          0.        ]\n",
            " [ 1.22474487  1.22474487  1.22474487]]\n"
          ]
        }
      ]
    },
    {
      "cell_type": "code",
      "source": [
        "# Manual Normalization (Min-Max Scaling)\n",
        "\n",
        "# Manual normalization function\n",
        "def normalize(data):\n",
        "    # Calculate min and max for each feature (column)\n",
        "    mins = np.min(data, axis=0)\n",
        "    maxs = np.max(data, axis=0)\n",
        "\n",
        "    # Normalize the data\n",
        "    normalized_data = (data - mins) / (maxs - mins)\n",
        "    return normalized_data\n",
        "\n",
        "# Applying normalization\n",
        "normalized_data = normalize(data)\n",
        "\n",
        "print(\"Normalized Data:\\n\", normalized_data)\n"
      ],
      "metadata": {
        "colab": {
          "base_uri": "https://localhost:8080/"
        },
        "id": "35X5bKrHg2YC",
        "outputId": "976cdb62-27a3-4294-fd48-03f1004fb8b4"
      },
      "execution_count": 2,
      "outputs": [
        {
          "output_type": "stream",
          "name": "stdout",
          "text": [
            "Normalized Data:\n",
            " [[0.  0.  0. ]\n",
            " [0.5 0.5 0.5]\n",
            " [1.  1.  1. ]]\n"
          ]
        }
      ]
    },
    {
      "cell_type": "code",
      "source": [],
      "metadata": {
        "id": "TCSx2FlMg76B"
      },
      "execution_count": null,
      "outputs": []
    }
  ]
}