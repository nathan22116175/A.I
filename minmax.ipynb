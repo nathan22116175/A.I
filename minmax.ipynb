{
  "metadata": {
    "kernelspec": {
      "name": "python",
      "display_name": "Python (Pyodide)",
      "language": "python"
    },
    "language_info": {
      "codemirror_mode": {
        "name": "python",
        "version": 3
      },
      "file_extension": ".py",
      "mimetype": "text/x-python",
      "name": "python",
      "nbconvert_exporter": "python",
      "pygments_lexer": "ipython3",
      "version": "3.8"
    }
  },
  "nbformat_minor": 4,
  "nbformat": 4,
  "cells": [
    {
      "cell_type": "code",
      "source": "board = [' '] * 9",
      "metadata": {
        "trusted": true
      },
      "outputs": [],
      "execution_count": 1
    },
    {
      "cell_type": "code",
      "source": "def display_board(board):\n    for i in range(0, 9, 3) :\n        print(board[i:i+3])\n    print()\n\ndef check_winner(board, player):\n    win_positions = [\n        [0, 1, 2],[3, 4, 5],[6, 7, 8],\n        [0, 3, 6], [1, 4, 7], [2, 5, 8],\n        [0, 4, 8], [2, 4, 6] \n    ]\n    for position in  win_positions :\n        if all(board[i] == player for i in position) :\n            return True\n    return False\n\ndef is_draw(board):\n    return all(cell != '' for cell in board)\n\ndef is_terminal(board):\n    return check_winner(board, 'X') or check_winner(board, 'O') or is_draw(board)",
      "metadata": {
        "trusted": true
      },
      "outputs": [],
      "execution_count": 4
    },
    {
      "cell_type": "code",
      "source": "def evaluate_Function(board):\n    if check_winner(board, 'X') :\n        return 1\n    elif check_winner(board, 'O') :\n        return -1\n    else :\n        return 0",
      "metadata": {
        "trusted": true
      },
      "outputs": [],
      "execution_count": 6
    },
    {
      "cell_type": "code",
      "source": "def minmax(board, is_maximizing) :\n    if is_terminal(board) :\n        return evaluate_Function(board)\n\n    if is_maximizing :\n        best_score = -float('inf')\n        for i in range(9) :\n            if board[i] == '' :\n                board['X']\n                score = minmax(board, False)\n                board[i] = ''\n                best_score = max(best_score, score)\n        return best_score\n\n    else :\n        best_score = float('inf')\n        for i in range(9) :\n            if board[i] == '' :\n                board['O']\n                score = minmax(board, True)\n                board[i] = ''\n                best_score = min(best_score, score)\n        return best_score\n        ",
      "metadata": {
        "trusted": true
      },
      "outputs": [],
      "execution_count": 7
    },
    {
      "cell_type": "code",
      "source": "def best_move(board) :\n    best_score = -float('inf')\n    move = None\n    for i in range(9) :\n        if board[i] == '' :\n            board[i] = 'X'\n            score = minmax(board, False)\n            board[i] = ''\n            if score > best_score:\n                best_score = score\n                move = i\n    return move",
      "metadata": {
        "trusted": true
      },
      "outputs": [],
      "execution_count": 8
    },
    {
      "cell_type": "code",
      "source": "def play_game():\n    current_player = 'X'  # X goes first\n    while not is_terminal(board):\n        display_board(board)\n        if current_player == 'X':  # Computer's turn\n            move = best_move(board)\n            print(f\"Computer chooses position {move + 1}\")\n            board[move] = 'X'\n        else:  # Human's turn\n            move = int(input(\"Enter your move (1-9): \")) - 1\n            if board[move] == '':\n                board[move] = 'O'\n            else:\n                print(\"Invalid move. Try again.\")\n                continue\n        current_player = 'O' if current_player == 'X' else 'X'\n    \n    display_board(board)\n    if check_winner(board, 'X'):\n        print(\"Computer wins!\")\n    elif check_winner(board, 'O'):\n        print(\"You win!\")\n    else:\n        print(\"It's a draw!\")\n\n# Start the game\nplay_game()\n",
      "metadata": {
        "trusted": true
      },
      "outputs": [
        {
          "name": "stdout",
          "text": "[' ', ' ', ' ']\n[' ', ' ', ' ']\n[' ', ' ', ' ']\n\nIt's a draw!\n",
          "output_type": "stream"
        }
      ],
      "execution_count": 11
    },
    {
      "cell_type": "markdown",
      "source": " you play as O, and the computer plays as X. \n Computer's turn :\n It uses the best_move function to determine its move and places an X on the board\n\nThe goal of the game in your implementation is to test how well the computer plays as X using the logic you've implemented in the best_move function (Testing Computer's Skill)\n\nKey Goals:\n\nChallenge for the Human Player:\n\nThe computer should play strategically and make it difficult for the human (you) to win.\nThis involves testing how the computer evaluates the board and decides its moves.\nEvaluate the Computer's Intelligence:\n\nDoes the computer block the human's winning moves?\nCan it detect opportunities to win when available?\nAssess Strategy Effectiveness:\n\nIf the computer consistently wins or draws, it demonstrates a solid strategy.\nIf it loses often, the best_move logic may need improvement.",
      "metadata": {}
    }
  ]
}