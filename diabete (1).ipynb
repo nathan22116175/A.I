{
  "metadata": {
    "kernelspec": {
      "name": "python",
      "display_name": "Python (Pyodide)",
      "language": "python"
    },
    "language_info": {
      "codemirror_mode": {
        "name": "python",
        "version": 3
      },
      "file_extension": ".py",
      "mimetype": "text/x-python",
      "name": "python",
      "nbconvert_exporter": "python",
      "pygments_lexer": "ipython3",
      "version": "3.8"
    }
  },
  "nbformat_minor": 4,
  "nbformat": 4,
  "cells": [
    {
      "cell_type": "code",
      "source": "import pandas as pd\nimport numpy as np",
      "metadata": {
        "trusted": true
      },
      "outputs": [],
      "execution_count": null
    },
    {
      "cell_type": "code",
      "source": "data = pd.read_csv('diabetes.csv')\ndata.head()",
      "metadata": {
        "trusted": true
      },
      "outputs": [],
      "execution_count": null
    },
    {
      "cell_type": "code",
      "source": "from sklearn.model_selection import train_test_split",
      "metadata": {
        "trusted": true
      },
      "outputs": [],
      "execution_count": null
    },
    {
      "cell_type": "code",
      "source": "X = data[['Pregnancies', 'Glucose', 'BloodPressure', 'SkinThickness', 'Insulin', 'BMI', 'DiabetesPedigreeFunction', 'Age']]\ny = data['Outcome']",
      "metadata": {
        "trusted": true
      },
      "outputs": [],
      "execution_count": null
    },
    {
      "cell_type": "code",
      "source": "X_train, X_test, y_train, y_test = train_test_split(X, y, test_size = 0.2, random_state = 42)",
      "metadata": {
        "trusted": true
      },
      "outputs": [],
      "execution_count": null
    },
    {
      "cell_type": "code",
      "source": "k = 3",
      "metadata": {
        "trusted": true
      },
      "outputs": [],
      "execution_count": null
    },
    {
      "cell_type": "code",
      "source": "from sklearn.neighbors import KNeighborsClassifier\n\nknn = KNeighborsClassifier(n_neighbors = k)\nknn.fit(X_train, y_train)",
      "metadata": {
        "trusted": true
      },
      "outputs": [],
      "execution_count": null
    },
    {
      "cell_type": "code",
      "source": "test_predictions = knn.predict(X_test)\naccuracy = (predictions == y_test).mean()\n\nprint(f\"Model accuracy: {accuracy * 100:.2f}%\") ",
      "metadata": {
        "trusted": true
      },
      "outputs": [],
      "execution_count": null
    },
    {
      "cell_type": "markdown",
      "source": "## TEST",
      "metadata": {}
    },
    {
      "cell_type": "code",
      "source": "new_data = pd.DataFrame([[8, 180, 2, 55, 0, 33.6, 0.627, 100]], columns = ['Pregnancies','Glucose','BloodPressure','SkinThickness','Insulin','BMI','DiabetesPedigreeFunction','Age'])\nprediction = knn.predict(new_data)\nprint(f\"The new is classified as: {prediction[0]}\")",
      "metadata": {
        "trusted": true
      },
      "outputs": [],
      "execution_count": null
    },
    {
      "cell_type": "code",
      "source": "test_predictions = knn.predict(X_test)\naccuracy = (test_predictions == y_test).mean()\nprint(f\"Model accuracy: {accuracy * 100:.2f}%\")",
      "metadata": {
        "trusted": true
      },
      "outputs": [],
      "execution_count": null
    },
    {
      "cell_type": "markdown",
      "source": "Accuracy is calculated by comparing the model's predictions (test_predictions) on the test set (X_test) with the true labels (y_test).\n\nThe fit() method uses the value of k to prepare the modele (storing training data and its label for dst calculation)\n \nk when creating the KNeighborsClassifier, the model needs this information during training.\n\nWhen you call knn.fit(X_train, y_train): knn algorithm store X_train andthier corresponding label y_train for futur use \ndoes not calculate the distance\n\nWhen you later call knn.predict(X_test): calc dst btw the test points and all training points using the value of k it also \nselect the k nearest neighbors and predicts the label based on the majority class of those neighbors.",
      "metadata": {}
    },
    {
      "cell_type": "code",
      "source": "",
      "metadata": {
        "trusted": true
      },
      "outputs": [],
      "execution_count": null
    },
    {
      "cell_type": "markdown",
      "source": "## CLASS METHOD",
      "metadata": {}
    },
    {
      "cell_type": "code",
      "source": "import pandas as pd\nimport numpy as np\nfrom sklearn.model_selection import train_test_split\nfrom sklearn.neighbors import KNeighborsClassifier\n\nclass KNNModel:\n    def __init__(self, data, target_column, test_size=0.2, random_state=42, k=3):\n        \"\"\"\n        Initialize the KNNModel class.\n        \"\"\"\n        self.data = data\n        self.target_column = target_column\n        self.test_size = test_size\n        self.random_state = random_state\n        self.k = k\n        self.knn = None\n        self.X_train = None\n        self.X_test = None\n        self.y_train = None\n        self.y_test = None\n\n    def preprocess(self):\n        \"\"\"\n        Split the data into features and target, and then into training and testing sets.\n        \"\"\"\n        X = self.data.drop(columns=[self.target_column])\n        y = self.data[self.target_column]\n        self.X_train, self.X_test, self.y_train, self.y_test = train_test_split(\n            X, y, test_size=self.test_size, random_state=self.random_state\n        )\n    \n    def train(self):\n        \"\"\"\n        Train the KNN model on the training data.\n        \"\"\"\n        self.knn = KNeighborsClassifier(n_neighbors=self.k)\n        self.knn.fit(self.X_train, self.y_train)\n    \n    def evaluate(self):\n        \"\"\"\n        Evaluate the model on the test data and return the accuracy.\n        \"\"\"\n        test_predictions = self.knn.predict(self.X_test)\n        accuracy = (test_predictions == self.y_test).mean()\n        return accuracy\n\n    def predict(self, new_data):\n        \"\"\"\n        Predict the label for new data points.\n        \"\"\"\n        return self.knn.predict(new_data)\n\n# Load dataset\ndata = pd.read_csv('diabetes.csv')\n\n# Initialize the KNNModel\nmodel = KNNModel(data, target_column='Outcome', k=3)\n\n# Preprocess the data\nmodel.preprocess()\n\n# Train the model\nmodel.train()\n\n# Evaluate the model\naccuracy = model.evaluate()\nprint(f\"Model accuracy: {accuracy * 100:.2f}%\")\n\n# Predict for new data\nnew_data = pd.DataFrame(\n    [[8, 180, 2, 55, 0, 33.6, 0.627, 100]], \n    columns=['Pregnancies', 'Glucose', 'BloodPressure', 'SkinThickness', 'Insulin', 'BMI', 'DiabetesPedigreeFunction', 'Age']\n)\nprediction = model.predict(new_data)\nprint(f\"The new data is classified as: {prediction[0]}\")\n",
      "metadata": {
        "trusted": true
      },
      "outputs": [
        {
          "name": "stderr",
          "text": "<ipython-input-1-498207f46c6f>:1: DeprecationWarning: \nPyarrow will become a required dependency of pandas in the next major release of pandas (pandas 3.0),\n(to allow more performant data types, such as the Arrow string type, and better interoperability with other libraries)\nbut was not found to be installed on your system.\nIf this would cause problems for you,\nplease provide us feedback at https://github.com/pandas-dev/pandas/issues/54466\n        \n  import pandas as pd\n",
          "output_type": "stream"
        },
        {
          "name": "stdout",
          "text": "Model accuracy: 64.94%\nThe new data is classified as: 1\n",
          "output_type": "stream"
        }
      ],
      "execution_count": 1
    },
    {
      "cell_type": "code",
      "source": "",
      "metadata": {
        "trusted": true
      },
      "outputs": [],
      "execution_count": null
    }
  ]
}