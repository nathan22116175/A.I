{
  "nbformat": 4,
  "nbformat_minor": 0,
  "metadata": {
    "colab": {
      "provenance": []
    },
    "kernelspec": {
      "name": "python3",
      "display_name": "Python 3"
    },
    "language_info": {
      "name": "python"
    }
  },
  "cells": [
    {
      "cell_type": "code",
      "execution_count": null,
      "metadata": {
        "id": "Ob55KailEwGg"
      },
      "outputs": [],
      "source": [
        "#CHAPTER 7.2 : DateTime\n",
        "\n",
        "DateTime departure = dateTimepicker.Value\n",
        "DateTime returne = dateTimepicker.Value\n",
        "if(returne < departure)\n",
        "  messagebox.show('erro')\n",
        "else\n",
        "  label.text = \"you will be away \" + (retrune - departure).Days\n",
        "\n",
        "\n",
        "system.diagnostic.process.start(\"www.ciu.edu.tr\")"
      ]
    },
    {
      "cell_type": "code",
      "source": [
        "#CHAPTER 7.1 : DataGrid\n",
        "\n",
        "if(textbox1.Text == \"\" || textbox2.Text == \"\") # Add Element in The DataGrid\n",
        "  return\n",
        "for(int i = 0; i < Dicitonary.Count; i ++ )\n",
        "  if(textbox1.Text == Dictionary[i].word && textbox2.Text == Dictionary[i].mean)\n",
        "    messageBox.show(\"Already Exist\")\n",
        "  Dictionary.add(new item {\n",
        "      word = textbox1.Text,\n",
        "      mean = textbox2.Text\n",
        "  });\n",
        "\n",
        "int index = int.Parse(dataDridView1.selectedCell[0].Value.ToString()) -1; # Remove in DataGrid\n",
        "Dictionary.RemoveAt(index);\n",
        "for(int i = 0; i < Dictionary.Count; i++)\n",
        "  Dictionary[i].id--;\n",
        "\n",
        "int index = int.parse(dataGridView1.SelectCell[0].Value.ToString()) -1; # Update\n",
        "Dictionary[index].word = textBox1.Text;\n",
        "Dictionary[index].mean = textBox2.Text;\n",
        "dataGridView.Refresh()\n",
        "\n",
        "for(int = 0; i < Dictionary.Count; i++) # Recherche in DateGrid\n",
        "  if(textbox3.Text == Dictionary[i].word)\n",
        "  {\n",
        "      label4.Text += Dictionary[i].word;\n",
        "      return\n",
        "  }\n",
        "  MessageBox.show(\"Not Found\")"
      ],
      "metadata": {
        "id": "NMtSLC_fHahd"
      },
      "execution_count": null,
      "outputs": []
    },
    {
      "cell_type": "code",
      "source": [
        "#CHAPTER 6.1 LISTVIEW\n",
        "for(int i = 0; i < listView1.Item.Count; i++) # Add Element in The ListView\n",
        "  if(textBox.Text = listView1.Item[i]subItem[1].Text)\n",
        "    MessageBox.show(\"Already Exist\")\n",
        "ListViewItem R = new ListViewItem(id.ToString());\n",
        "ListViewItem.ListViewSubitem C2 = new ListViewItem.ListViewSubItem(R, texBox1.Text);\n",
        "R.SubItem.Add(C2);\n",
        "listView.Item.Add(R);\n",
        "\n",
        "textBox1.Text = listView.FocusedItem.SubItem[1].Text; # Update & Select Item From ListView\n",
        "\n",
        "int index = Convert.Toint32(textBox2.Text)-1 # Remove From ListView\n",
        "listView.Items[index].Remove();\n",
        "for(int i = index; i < listView1.Item.Count; i++)\n",
        "  int x = Convert.ToInt32(listView1.Items[i].subItems[0].Text);\n",
        "  x--\n",
        "  listView1.Items[1].subItems[0].Text = x.ToString();\n",
        "\n",
        "for(int i = 0; i < ListView.Items.Count; i++) # Recherche From ListView\n",
        "  if(textBox9.Text == listView1.Items[i].subItems[i].Text)\n",
        "    label4.Text += listView1.Item[i].subItem[2].Text\n",
        "    return"
      ],
      "metadata": {
        "id": "VQ3Ue0F6O7qQ"
      },
      "execution_count": null,
      "outputs": []
    },
    {
      "cell_type": "code",
      "source": [
        "#CHAPTER 5.1 Files\n",
        "private string FolderName, FileName, Path;\n",
        "FolderName = textBox1.Text; FileName = textBox2.Text; Path = FolderName + \"\\\\\" + FileName # Set Path\n",
        "\n",
        "if(Directory.Exist(FolderName)) { MessageBox.show(\"Directory Already Exist\")} # Create Directory\n",
        "else { Directory.CreateDirectory(FolderName) }\n",
        "\n",
        "if(File.Exist(Path)) { MessageBox.show(\"File Already Exist\") } # Create File\n",
        "else { File.Create(Path) }\n",
        "\n",
        "if(File.Exist(Path)) # Read From File\n",
        "  richTextBox.Text = File.ReadAllText(Path)\n",
        "\n",
        "if(File.Exist(Path)) # Write From File\n",
        "  using(StreamWriter X = File.AppendText(Path)) #File.CreateText(Path)\n",
        "    X.WriteLine(textBox.Text)\n",
        "\n",
        "if(File.Exist(Path)) # Delete File\n",
        "  File.Delete(Path)"
      ],
      "metadata": {
        "id": "fkmuxcHYPHXG"
      },
      "execution_count": 1,
      "outputs": []
    },
    {
      "cell_type": "code",
      "source": [
        "#CHAPTER 5.2 XML\n",
        "\n",
        "XmlDocument Doc = new XmlDocument();  # Create A XML File\n",
        "Doc.LoadXml(\"<studentList>\" + \"</studentList>\");\n",
        "using (XmlTextWriter writer = new XmlTextWriter(\"C:\\\\student.xml\", null))\n",
        "  writer.Formatting = Formatting.Indented;\n",
        "  Doc.save(writer)\n",
        "\n",
        "var doc = XDocument.Load(\"C:\\\\student.xml\")   # Write From XML File\n",
        "XElement newStudent = new XElement(\"student\",\n",
        "                      new XElement(\"stID\", textBox1.text),\n",
        "                      new XElement(\"stNamw\", textBox2.text),\n",
        "                      new XElement(\"stSurname\", textBox3.text));\n",
        "doc.Element(\"studentList\").Add(newStudent);\n",
        "doc.save(\"C:\\\\student.xml\")\n",
        "\n",
        "label4.Text = \"List :\"    # Read From XML File\n",
        "XElment list = XElement.Load(\"C:\\\\student.xml\")\n",
        "foreach(var x in list.Elements(\"student\"))\n",
        " label4.Text += \"(\" + x.Element(\"stID\").Value +\n",
        "                \"(\" + x.Element(\"stID\").Value"
      ],
      "metadata": {
        "id": "vkdpjCfac6h1"
      },
      "execution_count": null,
      "outputs": []
    },
    {
      "cell_type": "code",
      "source": [
        "# CHAPTER 4.3 ListBox & CheckListBox\n"
      ],
      "metadata": {
        "id": "WRZ1ov_4mFnN"
      },
      "execution_count": null,
      "outputs": []
    },
    {
      "cell_type": "code",
      "source": [
        "# CHAPTER 4.1 Gender\n",
        "Form2 F = new Form2();\n",
        "if(radioButton1.Checked == true)\n",
        "  f.label.Text += textBox1.text\n",
        "\n",
        "f.show()"
      ],
      "metadata": {
        "id": "8uMMwYwkkMO4"
      },
      "execution_count": null,
      "outputs": []
    }
  ]
}