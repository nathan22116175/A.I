{
  "nbformat": 4,
  "nbformat_minor": 0,
  "metadata": {
    "colab": {
      "provenance": []
    },
    "kernelspec": {
      "name": "python3",
      "display_name": "Python 3"
    },
    "language_info": {
      "name": "python"
    }
  },
  "cells": [
    {
      "cell_type": "markdown",
      "source": [
        "BFS ALGORITHM"
      ],
      "metadata": {
        "id": "xGl_dwZWMZGo"
      }
    },
    {
      "cell_type": "code",
      "source": [
        "#BFS explores all the neighbors of a node before moving to the next level of nodes. It uses a queue data structure to keep track of the nodes to visit next.\n",
        "from collections import deque\n",
        "\n",
        "def bfs(graph, start):\n",
        "    visited = set()  # To track visited nodes\n",
        "    queue = deque([start])  # Initialize queue with the starting node\n",
        "\n",
        "    visited.add(start)\n",
        "\n",
        "    while queue:\n",
        "        node = queue.popleft()  # Dequeue the front node\n",
        "        print(node, end=\" \")    # Process the node\n",
        "\n",
        "        for neighbor in graph[node]:\n",
        "            if neighbor not in visited:\n",
        "                visited.add(neighbor)  # Mark as visited\n",
        "                queue.append(neighbor)  # Enqueue the neighbor\n",
        "\n",
        "graph = {\n",
        "    'A': ['B', 'C'],\n",
        "    'B': ['D', 'E'],\n",
        "    'C': ['F'],\n",
        "    'D': [],\n",
        "    'E': ['F'],\n",
        "    'F': []\n",
        "}\n",
        "print(bfs(graph, 'A'))"
      ],
      "metadata": {
        "colab": {
          "base_uri": "https://localhost:8080/"
        },
        "id": "dDBWtBjjij-X",
        "outputId": "1ddfff3c-142a-42ff-dfa4-c2946a9d747d"
      },
      "execution_count": 19,
      "outputs": [
        {
          "output_type": "stream",
          "name": "stdout",
          "text": [
            "A B C D E F None\n"
          ]
        }
      ]
    },
    {
      "cell_type": "code",
      "source": [],
      "metadata": {
        "id": "qLKF86vVlDn1"
      },
      "execution_count": 23,
      "outputs": []
    },
    {
      "cell_type": "code",
      "source": [],
      "metadata": {
        "id": "-KUM6RmRr0vs"
      },
      "execution_count": null,
      "outputs": []
    }
  ]
}