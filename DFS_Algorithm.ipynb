{
  "nbformat": 4,
  "nbformat_minor": 0,
  "metadata": {
    "colab": {
      "provenance": []
    },
    "kernelspec": {
      "name": "python3",
      "display_name": "Python 3"
    },
    "language_info": {
      "name": "python"
    }
  },
  "cells": [
    {
      "cell_type": "markdown",
      "source": [
        "DFS ALGORITHM"
      ],
      "metadata": {
        "id": "xGl_dwZWMZGo"
      }
    },
    {
      "cell_type": "code",
      "source": [
        "#WORKING WITH GRAPH\n",
        "\n",
        "class DFS_Algorithm :\n",
        "  def __init__(self, graph) :\n",
        "    self.graph = graph\n",
        "\n",
        "  def printGraph(self) :\n",
        "    print(self.graph)\n",
        "  def DfsAlg(self, graph, start) :\n",
        "    visited = set()\n",
        "    stack = [start]\n",
        "\n",
        "    while stack :\n",
        "      node = stack.pop()\n",
        "      if node not in visited :\n",
        "        print(node, end = \" \")\n",
        "        visited.add(node)\n",
        "      for neighbor in graph[node] :\n",
        "        if neighbor not in visited :\n",
        "          stack.append(neighbor)\n",
        "\n",
        "graph = {\n",
        "    'A': ['B', 'C'],\n",
        "    'B': ['A', 'D', 'E'],\n",
        "    'C': ['A', 'F'],\n",
        "    'D': ['B'],\n",
        "    'E': ['B', 'F'],\n",
        "    'F': ['C', 'E']\n",
        "}\n",
        "\n",
        "myGraph = DFS_Algorithm(graph)\n",
        "myGraph.printGraph()\n",
        "myGraph.DfsAlg(graph, 'A')"
      ],
      "metadata": {
        "colab": {
          "base_uri": "https://localhost:8080/"
        },
        "id": "8VPwpL55LjXt",
        "outputId": "e05588fc-e6c1-45a4-8e8c-87b49cd46a02"
      },
      "execution_count": 8,
      "outputs": [
        {
          "output_type": "stream",
          "name": "stdout",
          "text": [
            "{'A': ['B', 'C'], 'B': ['A', 'D', 'E'], 'C': ['A', 'F'], 'D': ['B'], 'E': ['B', 'F'], 'F': ['C', 'E']}\n",
            "A C F E B D "
          ]
        }
      ]
    },
    {
      "cell_type": "markdown",
      "source": [
        "#QUESTION\n",
        "\n",
        "Graph:\n",
        "    S (Start) -> A, B\n",
        "    A -> C\n",
        "    B -> C, D\n",
        "    C -> E\n",
        "    D -> E\n",
        "    E -> G (Goal)\n",
        "    Trouver un chemin entre le nœud S (Start) et G (Goal) en utilisant l'algorithme de recherche en profondeur (DFS)."
      ],
      "metadata": {
        "id": "Fo5paw_jTHnZ"
      }
    },
    {
      "cell_type": "code",
      "source": [
        "def dfs_find_path(graph, start, goal):\n",
        "    stack = [(start, [start])]  # Stack stores tuples: (current_node:the node we exploring , path_to_node:the path taken to reach the current_node)\n",
        "    visited = set()  # Track visited nodes\n",
        "\n",
        "    while stack:\n",
        "        node, path = stack.pop()\n",
        "        if node == goal:\n",
        "            return path  # Return the path to the goal\n",
        "\n",
        "        if node not in visited:\n",
        "            visited.add(node)\n",
        "            for neighbor in graph[node]:\n",
        "                if neighbor not in visited:\n",
        "                    stack.append((neighbor, path + [neighbor]))  # Add neighbor to stack with updated path\n",
        "\n",
        "    return None  # Return None if no path is found\n",
        "\n",
        "graph = {\n",
        "    'S': ['A', 'B'],\n",
        "    'A': ['C'],\n",
        "    'B': ['C', 'D'],\n",
        "    'C': ['E'],\n",
        "    'D': ['E'],\n",
        "    'E': ['G'],\n",
        "    'G': []\n",
        "}\n",
        "\n",
        "path = dfs_find_path(graph, 'S', 'G')\n",
        "print(\"Path from S to G:\", path)\n"
      ],
      "metadata": {
        "colab": {
          "base_uri": "https://localhost:8080/"
        },
        "id": "oKDpsQPqTInq",
        "outputId": "3f4967fb-6b3b-403e-c3e4-39239fb9e645"
      },
      "execution_count": 18,
      "outputs": [
        {
          "output_type": "stream",
          "name": "stdout",
          "text": [
            "Path from S to G: ['S', 'B', 'D', 'E', 'G']\n"
          ]
        }
      ]
    },
    {
      "cell_type": "code",
      "source": [
        "#on ne se marie pas forcement aux gens qu'on as le plus aimer"
      ],
      "metadata": {
        "id": "WfAAEeSVd8Dp"
      },
      "execution_count": null,
      "outputs": []
    }
  ]
}