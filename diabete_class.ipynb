{
  "metadata": {
    "kernelspec": {
      "name": "python",
      "display_name": "Python (Pyodide)",
      "language": "python"
    },
    "language_info": {
      "codemirror_mode": {
        "name": "python",
        "version": 3
      },
      "file_extension": ".py",
      "mimetype": "text/x-python",
      "name": "python",
      "nbconvert_exporter": "python",
      "pygments_lexer": "ipython3",
      "version": "3.8"
    }
  },
  "nbformat_minor": 4,
  "nbformat": 4,
  "cells": [
    {
      "cell_type": "code",
      "source": "import pandas as pd\nimport numpy as np\n\nclass KNN_algorithm:\n    def __init__(self, data):\n        self.data = data\n        self.X_train = None\n        self.y_train = None\n\n    def loadData(self):\n        # Display the first few rows of the data\n        print(self.data.head())\n        \n    @staticmethod\n    def euclidean_distance(x1, x2, y1, y2):\n        # Correct Euclidean distance formula\n        return np.sqrt((x2 - x1)**2 + (y2 - y1)**2)\n\n    def fit(self, X, y):\n        # Store training data\n        self.X_train = X\n        self.y_train = y\n\n    def knn(self, new_point, k=3):\n        distances = []\n        \n        # Calculate distance from new_point to all training data\n        for i in range(len(self.X_train)):\n            distance = np.sqrt(np.sum((self.X_train.iloc[i] - new_point)**2))\n            distances.append((distance, self.y_train.iloc[i].values[0]))\n        \n        # Sort distances and select k nearest neighbors\n        distances.sort(key=lambda x: x[0])\n        top_k = distances[:k]\n\n        # Voting: Count the most common label in top_k\n        labels = [label for _, label in top_k]\n        prediction = max(set(labels), key=labels.count)\n        return prediction\n\n\n# Load dataset\ndataFram = pd.read_csv('diabetes.csv')\n\n# Define features and target\nX = dataFram[['Pregnancies', 'Glucose', 'BloodPressure', 'SkinThickness', 'Insulin', 'BMI', 'DiabetesPedigreeFunction', 'Age']]\ny = dataFram[['Outcome']]\n\n# Create instance of KNN_algorithm class\ndisplay_data = KNN_algorithm(dataFram)\n\n# Display data\ndisplay_data.loadData()\n\n# Split dataset into training and test sets\nfrom sklearn.model_selection import train_test_split\nX_train, X_test, y_train, y_test = train_test_split(X, y, test_size=0.2, random_state=42)\n\n# Train the KNN model\ndisplay_data.fit(X_train, y_train)\n\n# Predict a new data point\nnew_data = [8, 180, 2, 55, 0, 33.6, 0.627, 100]  # Example new data point\nprediction = display_data.knn(new_data, k=3)\nprint(f\"The new data is classified as: {prediction}\")\n",
      "metadata": {
        "trusted": true
      },
      "outputs": [
        {
          "name": "stdout",
          "text": "   Pregnancies  Glucose  BloodPressure  SkinThickness  Insulin   BMI  \\\n0            6      148             72             35        0  33.6   \n1            1       85             66             29        0  26.6   \n2            8      183             64              0        0  23.3   \n3            1       89             66             23       94  28.1   \n4            0      137             40             35      168  43.1   \n\n   DiabetesPedigreeFunction  Age  Outcome  \n0                     0.627   50        1  \n1                     0.351   31        0  \n2                     0.672   32        1  \n3                     0.167   21        0  \n4                     2.288   33        1  \nThe new data is classified as: 1\n",
          "output_type": "stream"
        }
      ],
      "execution_count": 7
    },
    {
      "cell_type": "code",
      "source": "",
      "metadata": {
        "trusted": true
      },
      "outputs": [],
      "execution_count": null
    },
    {
      "cell_type": "code",
      "source": "",
      "metadata": {
        "trusted": true
      },
      "outputs": [],
      "execution_count": null
    },
    {
      "cell_type": "markdown",
      "source": "- __init__(self, data): Initializes the class with the dataset.\n- loadData(self): Displays the first few rows of the dataset.\n- euclidean_distance: Calculates the Euclidean distance (static method).\n- fit(self, X, y): Stores training data for later use.\n- knn(self, new_point, k): Implements the KNN algorithm to classify a new data point.",
      "metadata": {}
    },
    {
      "cell_type": "code",
      "source": "",
      "metadata": {
        "trusted": true
      },
      "outputs": [],
      "execution_count": null
    }
  ]
}